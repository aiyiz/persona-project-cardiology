{
 "cells": [
  {
   "cell_type": "code",
   "execution_count": 1,
   "metadata": {},
   "outputs": [],
   "source": [
    "#hierarchical modeling and k mode \n",
    "#used the most granular information from v3\n",
    "#used the top 150 common features from v3 \n",
    "#also limited sample size "
   ]
  },
  {
   "cell_type": "code",
   "execution_count": 15,
   "metadata": {},
   "outputs": [],
   "source": [
    "import pandas as pd\n",
    "import numpy as np\n",
    "import scipy as sp\n",
    "\n",
    "\n",
    "from sklearn import preprocessing\n",
    "from sklearn import feature_selection\n",
    "\n",
    "from sklearn import metrics#import editdistance as edist\n",
    "from sklearn.cluster import AgglomerativeClustering\n",
    "from sklearn.cluster import DBSCAN\n",
    "\n",
    "from sklearn.metrics.pairwise import pairwise_distances\n",
    "from sklearn import metrics\n",
    "from sklearn import cluster\n",
    "\n",
    "from sklearn.ensemble import IsolationForest\n",
    "\n",
    "from scipy import cluster\n",
    "import seaborn as sns\n",
    "import matplotlib.pyplot as plt"
   ]
  },
  {
   "cell_type": "code",
   "execution_count": 3,
   "metadata": {},
   "outputs": [],
   "source": [
    "#read in v3 data which is a dictionary of aa and what do they stand for\n",
    "#df =pd.read_csv('~/Documents/persona_project_cardiology/clustering/persona1_processed.csv')\n",
    "df =pd.read_csv('~/Documents/persona_project_cardiology/clustering/AllUniqueAAToDevice.csv')"
   ]
  },
  {
   "cell_type": "code",
   "execution_count": 21,
   "metadata": {},
   "outputs": [],
   "source": [
    "#read in name for each segment \n",
    "names=pd.read_csv('~/Documents/persona_project_cardiology/clustering/names_forMostGranularLevelMostCommon.csv')\n",
    "names['SEG_ID_STR']='ID_'+names.SEGMENT_ID.astype('str')"
   ]
  },
  {
   "cell_type": "code",
   "execution_count": 6,
   "metadata": {},
   "outputs": [],
   "source": [
    "df1=df.iloc[:,8:]\n",
    "#eliminate the first 8 columns "
   ]
  },
  {
   "cell_type": "code",
   "execution_count": 22,
   "metadata": {},
   "outputs": [
    {
     "data": {
      "text/html": [
       "<div>\n",
       "<style scoped>\n",
       "    .dataframe tbody tr th:only-of-type {\n",
       "        vertical-align: middle;\n",
       "    }\n",
       "\n",
       "    .dataframe tbody tr th {\n",
       "        vertical-align: top;\n",
       "    }\n",
       "\n",
       "    .dataframe thead th {\n",
       "        text-align: right;\n",
       "    }\n",
       "</style>\n",
       "<table border=\"1\" class=\"dataframe\">\n",
       "  <thead>\n",
       "    <tr style=\"text-align: right;\">\n",
       "      <th></th>\n",
       "      <th>Unnamed: 0</th>\n",
       "      <th>SEGMENT_ID</th>\n",
       "      <th>freq</th>\n",
       "      <th>cat</th>\n",
       "      <th>SEG_ID_STR</th>\n",
       "    </tr>\n",
       "  </thead>\n",
       "  <tbody>\n",
       "    <tr>\n",
       "      <th>0</th>\n",
       "      <td>0</td>\n",
       "      <td>96844</td>\n",
       "      <td>33312</td>\n",
       "      <td>Net Asset Value nan $0 - $24,999</td>\n",
       "      <td>ID_96844</td>\n",
       "    </tr>\n",
       "    <tr>\n",
       "      <th>1</th>\n",
       "      <td>1</td>\n",
       "      <td>14700004</td>\n",
       "      <td>29623</td>\n",
       "      <td>Household Composition Presence of Children Pre...</td>\n",
       "      <td>ID_14700004</td>\n",
       "    </tr>\n",
       "    <tr>\n",
       "      <th>2</th>\n",
       "      <td>2</td>\n",
       "      <td>14700010</td>\n",
       "      <td>29393</td>\n",
       "      <td>Household Composition Presence of Children Pre...</td>\n",
       "      <td>ID_14700010</td>\n",
       "    </tr>\n",
       "    <tr>\n",
       "      <th>3</th>\n",
       "      <td>3</td>\n",
       "      <td>14699992</td>\n",
       "      <td>29349</td>\n",
       "      <td>Household Composition Presence of Children Pre...</td>\n",
       "      <td>ID_14699992</td>\n",
       "    </tr>\n",
       "    <tr>\n",
       "      <th>4</th>\n",
       "      <td>4</td>\n",
       "      <td>14699998</td>\n",
       "      <td>29288</td>\n",
       "      <td>Household Composition Presence of Children Pre...</td>\n",
       "      <td>ID_14699998</td>\n",
       "    </tr>\n",
       "  </tbody>\n",
       "</table>\n",
       "</div>"
      ],
      "text/plain": [
       "   Unnamed: 0  SEGMENT_ID   freq  \\\n",
       "0           0       96844  33312   \n",
       "1           1    14700004  29623   \n",
       "2           2    14700010  29393   \n",
       "3           3    14699992  29349   \n",
       "4           4    14699998  29288   \n",
       "\n",
       "                                                 cat   SEG_ID_STR  \n",
       "0                   Net Asset Value nan $0 - $24,999     ID_96844  \n",
       "1  Household Composition Presence of Children Pre...  ID_14700004  \n",
       "2  Household Composition Presence of Children Pre...  ID_14700010  \n",
       "3  Household Composition Presence of Children Pre...  ID_14699992  \n",
       "4  Household Composition Presence of Children Pre...  ID_14699998  "
      ]
     },
     "execution_count": 22,
     "metadata": {},
     "output_type": "execute_result"
    }
   ],
   "source": [
    "names.head()"
   ]
  },
  {
   "cell_type": "code",
   "execution_count": 16,
   "metadata": {},
   "outputs": [],
   "source": [
    "#drop low variance vars\n",
    "sel = feature_selection.VarianceThreshold(threshold=(.8 * (1 - .8)))\n",
    "df1a = sel.fit_transform(df1)\n",
    "df1a = pd.DataFrame(df1a)"
   ]
  },
  {
   "cell_type": "code",
   "execution_count": 23,
   "metadata": {},
   "outputs": [],
   "source": [
    "retained_id=df1.columns[sel.get_support(indices=True)]\n",
    "names=names.cat[names.SEG_ID_STR.isin(retained_id)]"
   ]
  },
  {
   "cell_type": "code",
   "execution_count": 25,
   "metadata": {},
   "outputs": [],
   "source": [
    "#to make it run faster, only look at the first 150 features, and the most reacent 20000 rows \n",
    "df2=df1a.iloc[:20000,:]"
   ]
  },
  {
   "cell_type": "code",
   "execution_count": null,
   "metadata": {},
   "outputs": [],
   "source": []
  },
  {
   "cell_type": "code",
   "execution_count": 27,
   "metadata": {},
   "outputs": [
    {
     "data": {
      "text/plain": [
       "(20000, 58)"
      ]
     },
     "execution_count": 27,
     "metadata": {},
     "output_type": "execute_result"
    }
   ],
   "source": [
    "#detecting outliers in outcomes\n",
    "#isf=IsolationForest()\n",
    "#isf.fit(df2)\n",
    "#t=isf.predict(df2)\n",
    "#len(np.where(t==-1)[0])\n",
    "#df3=df2[t==1]\n",
    "\n",
    "df3=df2\n",
    "df3.shape"
   ]
  },
  {
   "cell_type": "code",
   "execution_count": null,
   "metadata": {},
   "outputs": [],
   "source": []
  },
  {
   "cell_type": "code",
   "execution_count": 165,
   "metadata": {},
   "outputs": [],
   "source": [
    "#hierarchical clustering with custome distance/dissimilarity metric\n",
    "#https://gist.github.com/codehacken/8b9316e025beeabb082dda4d0654a6fa"
   ]
  },
  {
   "cell_type": "code",
   "execution_count": 28,
   "metadata": {},
   "outputs": [
    {
     "name": "stderr",
     "output_type": "stream",
     "text": [
      "/Users/aiyizhang/anaconda3/lib/python3.6/site-packages/pandas/core/indexing.py:543: SettingWithCopyWarning: \n",
      "A value is trying to be set on a copy of a slice from a DataFrame.\n",
      "Try using .loc[row_indexer,col_indexer] = value instead\n",
      "\n",
      "See the caveats in the documentation: http://pandas.pydata.org/pandas-docs/stable/indexing.html#indexing-view-versus-copy\n",
      "  self.obj[item] = s\n"
     ]
    }
   ],
   "source": [
    "#change data type from int to boolean to feed into pairwise distance\n",
    "for i in range(df3.shape[1]): \n",
    "    df3.iloc[:,i]=df3.iloc[:,i].astype('bool')"
   ]
  },
  {
   "cell_type": "code",
   "execution_count": 29,
   "metadata": {},
   "outputs": [],
   "source": [
    "# Calculate pairwise distances with the dice dissimilarity.\n",
    "m = pairwise_distances(df3, df3, metric='dice') \n",
    "#http://scikit-learn.org/stable/modules/generated/sklearn.metrics.pairwise.pairwise_distances.html\n",
    "#print(m)"
   ]
  },
  {
   "cell_type": "code",
   "execution_count": 30,
   "metadata": {},
   "outputs": [],
   "source": [
    "#remove missing. the missings here are false false values and creates negative inf val in dissimilarity matrix \n",
    "m_df=pd.DataFrame(m)\n",
    "keep=m_df.index[pd.isnull(m_df).any(axis=0)==False]\n",
    "m_df1=m_df.iloc[keep,keep]\n",
    "m_df1.shape\n",
    "m2=m_df1.values"
   ]
  },
  {
   "cell_type": "code",
   "execution_count": 31,
   "metadata": {},
   "outputs": [
    {
     "data": {
      "text/plain": [
       "(19282, 19282)"
      ]
     },
     "execution_count": 31,
     "metadata": {},
     "output_type": "execute_result"
    }
   ],
   "source": [
    "m_df1.shape"
   ]
  },
  {
   "cell_type": "code",
   "execution_count": 32,
   "metadata": {},
   "outputs": [],
   "source": [
    "#also delete these rows in original data with label in order to match with predictions\n",
    "df4=df3.iloc[keep,]"
   ]
  },
  {
   "cell_type": "code",
   "execution_count": 33,
   "metadata": {},
   "outputs": [],
   "source": [
    "# Perform agglomerative clustering.\n",
    "# The affinity is precomputed (since the distance are precalculated).\n",
    "# Use an 'average' linkage. Use any other apart from  'ward'.\n",
    "agg = AgglomerativeClustering(n_clusters=6, affinity='precomputed',\n",
    "                              linkage='average')\n",
    "\n",
    "# Use the distance matrix directly.\n",
    "u = agg.fit_predict(m2)"
   ]
  },
  {
   "cell_type": "code",
   "execution_count": 34,
   "metadata": {},
   "outputs": [],
   "source": [
    "#dendrogram\n",
    "#X = sp.spatial.distance.squareform(m2)\n",
    "#Z = cluster.hierarchy.linkage(X, 'average')\n",
    "\n",
    "#plt.figure()\n",
    "#dn = sp.cluster.hierarchy.dendrogram(Z)"
   ]
  },
  {
   "cell_type": "code",
   "execution_count": 35,
   "metadata": {},
   "outputs": [
    {
     "data": {
      "text/plain": [
       "0.2125179866803379"
      ]
     },
     "execution_count": 35,
     "metadata": {},
     "output_type": "execute_result"
    }
   ],
   "source": [
    "metrics.silhouette_score(m2, u, metric=\"precomputed\")\n",
    "#https://www.stat.berkeley.edu/~spector/s133/Clus.html\n",
    "#the cluster is weak and could potentially be artificial "
   ]
  },
  {
   "cell_type": "code",
   "execution_count": 36,
   "metadata": {},
   "outputs": [],
   "source": [
    "#tabulate frequency for each prediction result \n",
    "unique_elements, counts_elements = np.unique(u, return_counts=True)"
   ]
  },
  {
   "cell_type": "code",
   "execution_count": 37,
   "metadata": {
    "scrolled": true
   },
   "outputs": [
    {
     "data": {
      "text/plain": [
       "array([19099,     7,    23,     1,   124,    28])"
      ]
     },
     "execution_count": 37,
     "metadata": {},
     "output_type": "execute_result"
    }
   ],
   "source": [
    "counts_elements"
   ]
  },
  {
   "cell_type": "code",
   "execution_count": 38,
   "metadata": {},
   "outputs": [
    {
     "data": {
      "text/plain": [
       "19282"
      ]
     },
     "execution_count": 38,
     "metadata": {},
     "output_type": "execute_result"
    }
   ],
   "source": [
    "len(u)"
   ]
  },
  {
   "cell_type": "code",
   "execution_count": 177,
   "metadata": {},
   "outputs": [
    {
     "name": "stderr",
     "output_type": "stream",
     "text": [
      "/Users/aiyizhang/anaconda3/lib/python3.6/site-packages/ipykernel_launcher.py:2: SettingWithCopyWarning: \n",
      "A value is trying to be set on a copy of a slice from a DataFrame.\n",
      "Try using .loc[row_indexer,col_indexer] = value instead\n",
      "\n",
      "See the caveats in the documentation: http://pandas.pydata.org/pandas-docs/stable/indexing.html#indexing-view-versus-copy\n",
      "  \n"
     ]
    },
    {
     "data": {
      "text/plain": [
       "(10822, 31)"
      ]
     },
     "execution_count": 177,
     "metadata": {},
     "output_type": "execute_result"
    }
   ],
   "source": [
    "#associate prediction with original data \n",
    "df4['label']=u\n",
    "# only look at the second cluster\n",
    "df4_2=df4[df4.label==1] \n",
    "df4_2.shape"
   ]
  },
  {
   "cell_type": "code",
   "execution_count": 178,
   "metadata": {},
   "outputs": [],
   "source": [
    "# find the percentage of true for each feature for label 2\n",
    "#label 2 seems to be the largest one so it could potentially be the likly cardiology patient \n",
    "hm2=[]\n",
    "for i in range(df4_2.iloc[:,:150].shape[1]):\n",
    "    hm2.append(round(np.unique(df4_2.iloc[:,:150].iloc[:,i], return_counts=True)[1][0]/df4_2.iloc[:,:150].shape[0],2))"
   ]
  },
  {
   "cell_type": "code",
   "execution_count": 179,
   "metadata": {},
   "outputs": [],
   "source": [
    "hm2=1-np.array(hm2)"
   ]
  },
  {
   "cell_type": "code",
   "execution_count": 180,
   "metadata": {},
   "outputs": [],
   "source": [
    "hm2=pd.DataFrame(list(map(list, zip(hm2, names))))\n",
    "hm2=hm2.sort_values(by=[0], ascending=False)"
   ]
  },
  {
   "cell_type": "code",
   "execution_count": 182,
   "metadata": {},
   "outputs": [],
   "source": [
    "hm2.to_csv(\"~/Documents/persona_project_cardiology/clustering/hm2Aug29_granular.csv\")\n",
    "\n",
    "#30 features\n",
    "#english speaking \n",
    "#middle aged (generation X) couple or single living by themselves without the presence of children\n",
    "#homeowner\n",
    "#voted\n",
    "#shop segment premium and high disposable income\n",
    "#direct mail responder \n",
    "\n",
    "#or middle class or old \n",
    "\n",
    "\n",
    "\n",
    "#150 features\n",
    "#no children\n",
    "#speaks english \n",
    "#homeowner, high disposable income \n",
    "#generation X\n",
    "#voted\n",
    "#apple app download\n",
    "\n",
    "#democrat\n",
    "#mid priced, and mid disposable income\n",
    "#live concert, dine out but not fastfood, alcohol\n",
    "#babyboomer \n",
    "#exercise \n",
    "\n",
    "\n",
    "#apparel website, amazon\n",
    "#uses phone, and does banking"
   ]
  },
  {
   "cell_type": "code",
   "execution_count": null,
   "metadata": {},
   "outputs": [],
   "source": []
  },
  {
   "cell_type": "code",
   "execution_count": null,
   "metadata": {},
   "outputs": [],
   "source": [
    "#plot feature importance of label 2\n",
    "#sns.set(style=\"whitegrid\")\n",
    "#fig, ax = plt.subplots()\n",
    "# the size of A4 paper\n",
    "#fig.set_size_inches(20, 8.27)\n",
    "\n",
    "#ax = sns.barplot(x=1, y=0, data=hm2[1:70],color=\"grey\", ax=ax)\n",
    "#ax.set_title('Percent Consumer per Feature for Likely Cardiolovescular Patients')\n",
    "#ax.set_xticklabels(ax.get_xticklabels(), rotation=90)"
   ]
  },
  {
   "cell_type": "code",
   "execution_count": null,
   "metadata": {},
   "outputs": [],
   "source": []
  },
  {
   "cell_type": "code",
   "execution_count": null,
   "metadata": {},
   "outputs": [],
   "source": []
  },
  {
   "cell_type": "code",
   "execution_count": null,
   "metadata": {},
   "outputs": [],
   "source": [
    "#kmode\n",
    "#https://pypi.org/project/kmodes/"
   ]
  },
  {
   "cell_type": "code",
   "execution_count": null,
   "metadata": {},
   "outputs": [],
   "source": [
    "from kmodes.kmodes import KModes\n",
    "\n",
    "km = KModes(n_clusters=6, init='Huang', n_init=5, verbose=1)\n",
    "\n",
    "clusters = km.fit_predict(df3)\n",
    "\n",
    "# Print the cluster centroids\n",
    "#print(km.cluster_centroids_)"
   ]
  },
  {
   "cell_type": "code",
   "execution_count": null,
   "metadata": {},
   "outputs": [],
   "source": [
    "unique_elements, counts_elements = np.unique(clusters, return_counts=True)"
   ]
  },
  {
   "cell_type": "code",
   "execution_count": null,
   "metadata": {},
   "outputs": [],
   "source": [
    "counts_elements"
   ]
  },
  {
   "cell_type": "code",
   "execution_count": null,
   "metadata": {},
   "outputs": [],
   "source": [
    "df3['label']=clusters"
   ]
  },
  {
   "cell_type": "code",
   "execution_count": null,
   "metadata": {},
   "outputs": [],
   "source": [
    "# only look at the second cluster\n",
    "df3_2=df3[df3.label==5] \n",
    "df3_2.shape"
   ]
  },
  {
   "cell_type": "code",
   "execution_count": null,
   "metadata": {},
   "outputs": [],
   "source": [
    "# find the percentage of true for each feature for label 2\n",
    "testk=[1]\n",
    "for i in range(df3_2.iloc[:,:150].shape[1]):\n",
    "    testk.append(round(np.unique(df3_2.iloc[:,:150].iloc[:,i], return_counts=True)[1][0]/df3_2.iloc[:,:150].shape[0],2))\n",
    "test_outk[:] = [1 - x  for x in test_outk]\n",
    "test_outk=pd.DataFrame(list(map(list, zip(testk, names))))\n",
    "test_outk=test_outk.sort_values(by=[0], ascending=False)    "
   ]
  },
  {
   "cell_type": "code",
   "execution_count": null,
   "metadata": {},
   "outputs": [],
   "source": [
    "test_outk.to_csv('kmode2Aug24.csv')"
   ]
  },
  {
   "cell_type": "code",
   "execution_count": null,
   "metadata": {},
   "outputs": [],
   "source": []
  },
  {
   "cell_type": "code",
   "execution_count": null,
   "metadata": {},
   "outputs": [],
   "source": [
    "#dbscan "
   ]
  },
  {
   "cell_type": "code",
   "execution_count": 39,
   "metadata": {},
   "outputs": [],
   "source": [
    "# Compute DBSCAN use precomputed dissilimarity matrix \n",
    "db = DBSCAN(eps=0.3, min_samples=10,metric='precomputed').fit(m2)\n",
    "core_samples_mask = np.zeros_like(db.labels_, dtype=bool)\n",
    "core_samples_mask[db.core_sample_indices_] = True\n",
    "labels = db.labels_"
   ]
  },
  {
   "cell_type": "code",
   "execution_count": 40,
   "metadata": {},
   "outputs": [],
   "source": [
    "# Number of clusters in labels, ignoring noise if present.\n",
    "n_clusters_ = len(set(labels)) - (1 if -1 in labels else 0)"
   ]
  },
  {
   "cell_type": "code",
   "execution_count": 41,
   "metadata": {},
   "outputs": [
    {
     "name": "stdout",
     "output_type": "stream",
     "text": [
      "Estimated number of clusters: 6\n",
      "Silhouette Coefficient: 0.308\n"
     ]
    }
   ],
   "source": [
    "print('Estimated number of clusters: %d' % n_clusters_)\n",
    "print(\"Silhouette Coefficient: %0.3f\"\n",
    "      % metrics.silhouette_score(m2, labels, metric=\"precomputed\"))\n",
    "#lots of overlapping clusters"
   ]
  },
  {
   "cell_type": "code",
   "execution_count": 42,
   "metadata": {},
   "outputs": [],
   "source": [
    "#tabulate frequency for each prediction result \n",
    "unique_elements, counts_elements = np.unique(labels, return_counts=True)"
   ]
  },
  {
   "cell_type": "code",
   "execution_count": 43,
   "metadata": {},
   "outputs": [
    {
     "data": {
      "text/plain": [
       "array([   32, 16845,  2133,    94,    71,    86,    21])"
      ]
     },
     "execution_count": 43,
     "metadata": {},
     "output_type": "execute_result"
    }
   ],
   "source": [
    "counts_elements"
   ]
  },
  {
   "cell_type": "code",
   "execution_count": null,
   "metadata": {},
   "outputs": [],
   "source": []
  },
  {
   "cell_type": "code",
   "execution_count": 44,
   "metadata": {},
   "outputs": [
    {
     "name": "stderr",
     "output_type": "stream",
     "text": [
      "/Users/aiyizhang/anaconda3/lib/python3.6/site-packages/ipykernel_launcher.py:3: SettingWithCopyWarning: \n",
      "A value is trying to be set on a copy of a slice from a DataFrame.\n",
      "Try using .loc[row_indexer,col_indexer] = value instead\n",
      "\n",
      "See the caveats in the documentation: http://pandas.pydata.org/pandas-docs/stable/indexing.html#indexing-view-versus-copy\n",
      "  This is separate from the ipykernel package so we can avoid doing imports until\n"
     ]
    },
    {
     "data": {
      "text/plain": [
       "(2133, 59)"
      ]
     },
     "execution_count": 44,
     "metadata": {},
     "output_type": "execute_result"
    }
   ],
   "source": [
    "#associate prediction with original data \n",
    "df5=df4\n",
    "df5['label']=labels\n",
    "# only look at the second cluster\n",
    "df5_2=df5[df5.label==1] \n",
    "df5_2.shape"
   ]
  },
  {
   "cell_type": "code",
   "execution_count": null,
   "metadata": {},
   "outputs": [],
   "source": [
    "# find the percentage of true for each feature for label 2\n",
    "#label 2 seems to be the largest one so it could potentially be the likly cardiology patient \n",
    "db=[]\n",
    "for i in range(df5_2.iloc[:,:150].shape[1]):\n",
    "    db.append(round(np.unique(df5_2.iloc[:,:150].iloc[:,i], return_counts=True)[1][1]/df5_2.iloc[:,:150].shape[0],2))"
   ]
  },
  {
   "cell_type": "code",
   "execution_count": null,
   "metadata": {},
   "outputs": [],
   "source": [
    "db=pd.DataFrame(list(map(list, zip(db, names))))\n",
    "db=db.sort_values(by=[0], ascending=False)"
   ]
  },
  {
   "cell_type": "code",
   "execution_count": null,
   "metadata": {},
   "outputs": [],
   "source": [
    "db.to_csv(\"~/Documents/persona_project_cardiology/clustering/dbAug29_granular.csv\")\n",
    "#very similar to hierarchical modeling\n",
    "\n",
    "#more than 40%: \n",
    "#no kids at home, single family, homeowner, residential building\n",
    "#english\n",
    "#high buying power able to afford premium goods\n",
    "#generation X \n",
    "#voted \n",
    "#apple app download\n",
    "#direct mail respondent \n",
    "#works out\n",
    "\n",
    "#30-40%: \n",
    "#babyboomer \n",
    "#don't keep a diet (dine out but not fastfood), live performance\n",
    "#average disposible income \n",
    "#democrat\n",
    "#apparel website \n",
    "\n",
    "#other\n",
    "#have cellphone service and banking service \n",
    "#shopping jewery\n",
    "#sight seeing, alcohol, self rate health management above average "
   ]
  }
 ],
 "metadata": {
  "kernelspec": {
   "display_name": "Python 3",
   "language": "python",
   "name": "python3"
  },
  "language_info": {
   "codemirror_mode": {
    "name": "ipython",
    "version": 3
   },
   "file_extension": ".py",
   "mimetype": "text/x-python",
   "name": "python",
   "nbconvert_exporter": "python",
   "pygments_lexer": "ipython3",
   "version": "3.6.5"
  }
 },
 "nbformat": 4,
 "nbformat_minor": 2
}
