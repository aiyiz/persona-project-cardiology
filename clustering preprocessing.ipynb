{
 "cells": [
  {
   "cell_type": "code",
   "execution_count": 1,
   "metadata": {},
   "outputs": [],
   "source": [
    "import pandas as pd\n",
    "import numpy as np\n",
    "import scipy as sp\n",
    "\n",
    "from itertools import chain\n",
    "\n",
    "import matplotlib.pyplot as plt\n",
    "import seaborn as sns"
   ]
  },
  {
   "cell_type": "code",
   "execution_count": 5,
   "metadata": {},
   "outputs": [],
   "source": [
    "#read in v3 data which is a dictionary of aa and what do they stand for\n",
    "v3 =pd.read_csv('~/Documents/persona_project_cardiology/original data and supplements/v3_segments.csv')"
   ]
  },
  {
   "cell_type": "code",
   "execution_count": null,
   "metadata": {},
   "outputs": [],
   "source": [
    "#read in number of visit by month\n",
    "num_month =pd.read_csv('~/Documents/persona_project/result_num_visit.csv')\n",
    "num_month.columns=['DEVICE_ID_HASHED','jan_visit','feb_visit','mar_visit','apr_visit','may_visit', 'june_visit','july_visit','august_visit']\n",
    "num_month=num_month.fillna(0)"
   ]
  },
  {
   "cell_type": "code",
   "execution_count": 6,
   "metadata": {},
   "outputs": [
    {
     "data": {
      "text/plain": [
       "count        4262.00\n",
       "mean      1798324.32\n",
       "std       3995122.71\n",
       "min         18387.00\n",
       "25%         94615.25\n",
       "50%         95691.50\n",
       "75%         96756.75\n",
       "max      19698717.00\n",
       "Name: SEGMENT_ID, dtype: float64"
      ]
     },
     "execution_count": 6,
     "metadata": {},
     "output_type": "execute_result"
    }
   ],
   "source": [
    "#find segment ID basic information\n",
    "aa=v3.SEGMENT_ID.unique()\n",
    "round(v3.SEGMENT_ID.describe(),2)"
   ]
  },
  {
   "cell_type": "code",
   "execution_count": 7,
   "metadata": {},
   "outputs": [],
   "source": [
    "#read in persona data\n",
    "persona =pd.read_csv('~/Documents/persona_project_cardiology/original data and supplements/persona_exploration.csv')"
   ]
  },
  {
   "cell_type": "code",
   "execution_count": 8,
   "metadata": {},
   "outputs": [
    {
     "data": {
      "text/plain": [
       "(58591, 7)"
      ]
     },
     "execution_count": 8,
     "metadata": {},
     "output_type": "execute_result"
    }
   ],
   "source": [
    "persona.shape"
   ]
  },
  {
   "cell_type": "code",
   "execution_count": 9,
   "metadata": {},
   "outputs": [
    {
     "data": {
      "text/plain": [
       "58587"
      ]
     },
     "execution_count": 9,
     "metadata": {},
     "output_type": "execute_result"
    }
   ],
   "source": [
    "len(persona.DEVICE_ID_HASHED.drop_duplicates())"
   ]
  },
  {
   "cell_type": "code",
   "execution_count": 10,
   "metadata": {},
   "outputs": [],
   "source": [
    "#only AA in persona data\n",
    "aa_persona=persona.AA"
   ]
  },
  {
   "cell_type": "code",
   "execution_count": 11,
   "metadata": {},
   "outputs": [],
   "source": [
    "#split AA by comma\n",
    "aa_persona_a=[]\n",
    "for i in range(len(aa_persona)):\n",
    "    aa_persona_a.append(aa_persona[i].split(\",\"))"
   ]
  },
  {
   "cell_type": "code",
   "execution_count": 12,
   "metadata": {},
   "outputs": [],
   "source": [
    "#unlist AA\n",
    "aa_persona_b=list(chain(*aa_persona_a))\n",
    "\n",
    "#change AA from list to array\n",
    "aa_persona_c=np.asarray(aa_persona_b)\n",
    "\n",
    "#remove missing (nothing is gone, but just make sure)\n",
    "#aa_persona_all_2 = aa_persona_all_2[~pd.isnull(aa_persona_all_2)]\n",
    "\n",
    "#put AA into a table \n",
    "aa_df=pd.DataFrame(aa_persona_c)\n",
    "aa_df=aa_df.rename({0: 'aa'}, axis='columns')"
   ]
  },
  {
   "cell_type": "code",
   "execution_count": 13,
   "metadata": {},
   "outputs": [],
   "source": [
    "#find AA and its associated frequency\n",
    "unique_elements, counts_elements = np.unique(aa_df, return_counts=True)\n",
    "\n",
    "aa_freq=pd.DataFrame(unique_elements, counts_elements)\n",
    "aa_freq.reset_index(level=0, inplace=True)\n",
    "aa_freq.columns=['freq','aa']\n",
    "\n",
    "#sort by frequency\n",
    "aa_freq=aa_freq.sort_values(by=['freq'], ascending=False)"
   ]
  },
  {
   "cell_type": "code",
   "execution_count": 14,
   "metadata": {},
   "outputs": [
    {
     "data": {
      "text/html": [
       "<div>\n",
       "<style scoped>\n",
       "    .dataframe tbody tr th:only-of-type {\n",
       "        vertical-align: middle;\n",
       "    }\n",
       "\n",
       "    .dataframe tbody tr th {\n",
       "        vertical-align: top;\n",
       "    }\n",
       "\n",
       "    .dataframe thead th {\n",
       "        text-align: right;\n",
       "    }\n",
       "</style>\n",
       "<table border=\"1\" class=\"dataframe\">\n",
       "  <thead>\n",
       "    <tr style=\"text-align: right;\">\n",
       "      <th></th>\n",
       "      <th>freq</th>\n",
       "      <th>aa</th>\n",
       "    </tr>\n",
       "  </thead>\n",
       "  <tbody>\n",
       "    <tr>\n",
       "      <th>3906</th>\n",
       "      <td>33312</td>\n",
       "      <td>96844</td>\n",
       "    </tr>\n",
       "    <tr>\n",
       "      <th>67</th>\n",
       "      <td>29623</td>\n",
       "      <td>14700004</td>\n",
       "    </tr>\n",
       "    <tr>\n",
       "      <th>71</th>\n",
       "      <td>29393</td>\n",
       "      <td>14700010</td>\n",
       "    </tr>\n",
       "    <tr>\n",
       "      <th>59</th>\n",
       "      <td>29349</td>\n",
       "      <td>14699992</td>\n",
       "    </tr>\n",
       "    <tr>\n",
       "      <th>63</th>\n",
       "      <td>29288</td>\n",
       "      <td>14699998</td>\n",
       "    </tr>\n",
       "    <tr>\n",
       "      <th>75</th>\n",
       "      <td>29103</td>\n",
       "      <td>14700016</td>\n",
       "    </tr>\n",
       "    <tr>\n",
       "      <th>55</th>\n",
       "      <td>29024</td>\n",
       "      <td>14699986</td>\n",
       "    </tr>\n",
       "    <tr>\n",
       "      <th>87</th>\n",
       "      <td>27825</td>\n",
       "      <td>14700032</td>\n",
       "    </tr>\n",
       "    <tr>\n",
       "      <th>228</th>\n",
       "      <td>27374</td>\n",
       "      <td>14700218</td>\n",
       "    </tr>\n",
       "    <tr>\n",
       "      <th>143</th>\n",
       "      <td>26224</td>\n",
       "      <td>14700115</td>\n",
       "    </tr>\n",
       "    <tr>\n",
       "      <th>152</th>\n",
       "      <td>25700</td>\n",
       "      <td>14700125</td>\n",
       "    </tr>\n",
       "    <tr>\n",
       "      <th>155</th>\n",
       "      <td>25248</td>\n",
       "      <td>14700129</td>\n",
       "    </tr>\n",
       "    <tr>\n",
       "      <th>1068</th>\n",
       "      <td>24163</td>\n",
       "      <td>57683</td>\n",
       "    </tr>\n",
       "    <tr>\n",
       "      <th>91</th>\n",
       "      <td>24046</td>\n",
       "      <td>14700037</td>\n",
       "    </tr>\n",
       "    <tr>\n",
       "      <th>1063</th>\n",
       "      <td>23646</td>\n",
       "      <td>57678</td>\n",
       "    </tr>\n",
       "    <tr>\n",
       "      <th>90</th>\n",
       "      <td>23324</td>\n",
       "      <td>14700036</td>\n",
       "    </tr>\n",
       "    <tr>\n",
       "      <th>124</th>\n",
       "      <td>23155</td>\n",
       "      <td>14700094</td>\n",
       "    </tr>\n",
       "    <tr>\n",
       "      <th>89</th>\n",
       "      <td>21842</td>\n",
       "      <td>14700035</td>\n",
       "    </tr>\n",
       "    <tr>\n",
       "      <th>88</th>\n",
       "      <td>20822</td>\n",
       "      <td>14700034</td>\n",
       "    </tr>\n",
       "    <tr>\n",
       "      <th>3894</th>\n",
       "      <td>20450</td>\n",
       "      <td>96831</td>\n",
       "    </tr>\n",
       "    <tr>\n",
       "      <th>1071</th>\n",
       "      <td>20450</td>\n",
       "      <td>60878</td>\n",
       "    </tr>\n",
       "    <tr>\n",
       "      <th>1434</th>\n",
       "      <td>19947</td>\n",
       "      <td>8409245</td>\n",
       "    </tr>\n",
       "    <tr>\n",
       "      <th>174</th>\n",
       "      <td>19376</td>\n",
       "      <td>14700153</td>\n",
       "    </tr>\n",
       "    <tr>\n",
       "      <th>53</th>\n",
       "      <td>19126</td>\n",
       "      <td>14699983</td>\n",
       "    </tr>\n",
       "    <tr>\n",
       "      <th>2373</th>\n",
       "      <td>18825</td>\n",
       "      <td>95255</td>\n",
       "    </tr>\n",
       "    <tr>\n",
       "      <th>1065</th>\n",
       "      <td>18424</td>\n",
       "      <td>57680</td>\n",
       "    </tr>\n",
       "    <tr>\n",
       "      <th>54</th>\n",
       "      <td>15102</td>\n",
       "      <td>14699984</td>\n",
       "    </tr>\n",
       "    <tr>\n",
       "      <th>1040</th>\n",
       "      <td>14781</td>\n",
       "      <td>57645</td>\n",
       "    </tr>\n",
       "    <tr>\n",
       "      <th>131</th>\n",
       "      <td>14694</td>\n",
       "      <td>14700102</td>\n",
       "    </tr>\n",
       "    <tr>\n",
       "      <th>3895</th>\n",
       "      <td>14653</td>\n",
       "      <td>96832</td>\n",
       "    </tr>\n",
       "    <tr>\n",
       "      <th>...</th>\n",
       "      <td>...</td>\n",
       "      <td>...</td>\n",
       "    </tr>\n",
       "    <tr>\n",
       "      <th>4223</th>\n",
       "      <td>2</td>\n",
       "      <td>98848</td>\n",
       "    </tr>\n",
       "    <tr>\n",
       "      <th>393</th>\n",
       "      <td>2</td>\n",
       "      <td>20970</td>\n",
       "    </tr>\n",
       "    <tr>\n",
       "      <th>4196</th>\n",
       "      <td>2</td>\n",
       "      <td>98814</td>\n",
       "    </tr>\n",
       "    <tr>\n",
       "      <th>293</th>\n",
       "      <td>2</td>\n",
       "      <td>20868</td>\n",
       "    </tr>\n",
       "    <tr>\n",
       "      <th>404</th>\n",
       "      <td>2</td>\n",
       "      <td>20981</td>\n",
       "    </tr>\n",
       "    <tr>\n",
       "      <th>294</th>\n",
       "      <td>2</td>\n",
       "      <td>20869</td>\n",
       "    </tr>\n",
       "    <tr>\n",
       "      <th>1144</th>\n",
       "      <td>2</td>\n",
       "      <td>69389</td>\n",
       "    </tr>\n",
       "    <tr>\n",
       "      <th>1137</th>\n",
       "      <td>2</td>\n",
       "      <td>69382</td>\n",
       "    </tr>\n",
       "    <tr>\n",
       "      <th>413</th>\n",
       "      <td>2</td>\n",
       "      <td>20991</td>\n",
       "    </tr>\n",
       "    <tr>\n",
       "      <th>4193</th>\n",
       "      <td>2</td>\n",
       "      <td>98811</td>\n",
       "    </tr>\n",
       "    <tr>\n",
       "      <th>410</th>\n",
       "      <td>2</td>\n",
       "      <td>20987</td>\n",
       "    </tr>\n",
       "    <tr>\n",
       "      <th>4224</th>\n",
       "      <td>1</td>\n",
       "      <td>98849</td>\n",
       "    </tr>\n",
       "    <tr>\n",
       "      <th>4222</th>\n",
       "      <td>1</td>\n",
       "      <td>98847</td>\n",
       "    </tr>\n",
       "    <tr>\n",
       "      <th>291</th>\n",
       "      <td>1</td>\n",
       "      <td>20866</td>\n",
       "    </tr>\n",
       "    <tr>\n",
       "      <th>4213</th>\n",
       "      <td>1</td>\n",
       "      <td>98836</td>\n",
       "    </tr>\n",
       "    <tr>\n",
       "      <th>4211</th>\n",
       "      <td>1</td>\n",
       "      <td>98834</td>\n",
       "    </tr>\n",
       "    <tr>\n",
       "      <th>4210</th>\n",
       "      <td>1</td>\n",
       "      <td>98833</td>\n",
       "    </tr>\n",
       "    <tr>\n",
       "      <th>4197</th>\n",
       "      <td>1</td>\n",
       "      <td>98816</td>\n",
       "    </tr>\n",
       "    <tr>\n",
       "      <th>1139</th>\n",
       "      <td>1</td>\n",
       "      <td>69384</td>\n",
       "    </tr>\n",
       "    <tr>\n",
       "      <th>1140</th>\n",
       "      <td>1</td>\n",
       "      <td>69385</td>\n",
       "    </tr>\n",
       "    <tr>\n",
       "      <th>1141</th>\n",
       "      <td>1</td>\n",
       "      <td>69386</td>\n",
       "    </tr>\n",
       "    <tr>\n",
       "      <th>1142</th>\n",
       "      <td>1</td>\n",
       "      <td>69387</td>\n",
       "    </tr>\n",
       "    <tr>\n",
       "      <th>1326</th>\n",
       "      <td>1</td>\n",
       "      <td>75160</td>\n",
       "    </tr>\n",
       "    <tr>\n",
       "      <th>518</th>\n",
       "      <td>1</td>\n",
       "      <td>35502</td>\n",
       "    </tr>\n",
       "    <tr>\n",
       "      <th>247</th>\n",
       "      <td>1</td>\n",
       "      <td>16446552</td>\n",
       "    </tr>\n",
       "    <tr>\n",
       "      <th>428</th>\n",
       "      <td>1</td>\n",
       "      <td>21009</td>\n",
       "    </tr>\n",
       "    <tr>\n",
       "      <th>419</th>\n",
       "      <td>1</td>\n",
       "      <td>20998</td>\n",
       "    </tr>\n",
       "    <tr>\n",
       "      <th>411</th>\n",
       "      <td>1</td>\n",
       "      <td>20988</td>\n",
       "    </tr>\n",
       "    <tr>\n",
       "      <th>1369</th>\n",
       "      <td>1</td>\n",
       "      <td>8409180</td>\n",
       "    </tr>\n",
       "    <tr>\n",
       "      <th>1138</th>\n",
       "      <td>1</td>\n",
       "      <td>69383</td>\n",
       "    </tr>\n",
       "  </tbody>\n",
       "</table>\n",
       "<p>4238 rows × 2 columns</p>\n",
       "</div>"
      ],
      "text/plain": [
       "       freq        aa\n",
       "3906  33312     96844\n",
       "67    29623  14700004\n",
       "71    29393  14700010\n",
       "59    29349  14699992\n",
       "63    29288  14699998\n",
       "75    29103  14700016\n",
       "55    29024  14699986\n",
       "87    27825  14700032\n",
       "228   27374  14700218\n",
       "143   26224  14700115\n",
       "152   25700  14700125\n",
       "155   25248  14700129\n",
       "1068  24163     57683\n",
       "91    24046  14700037\n",
       "1063  23646     57678\n",
       "90    23324  14700036\n",
       "124   23155  14700094\n",
       "89    21842  14700035\n",
       "88    20822  14700034\n",
       "3894  20450     96831\n",
       "1071  20450     60878\n",
       "1434  19947   8409245\n",
       "174   19376  14700153\n",
       "53    19126  14699983\n",
       "2373  18825     95255\n",
       "1065  18424     57680\n",
       "54    15102  14699984\n",
       "1040  14781     57645\n",
       "131   14694  14700102\n",
       "3895  14653     96832\n",
       "...     ...       ...\n",
       "4223      2     98848\n",
       "393       2     20970\n",
       "4196      2     98814\n",
       "293       2     20868\n",
       "404       2     20981\n",
       "294       2     20869\n",
       "1144      2     69389\n",
       "1137      2     69382\n",
       "413       2     20991\n",
       "4193      2     98811\n",
       "410       2     20987\n",
       "4224      1     98849\n",
       "4222      1     98847\n",
       "291       1     20866\n",
       "4213      1     98836\n",
       "4211      1     98834\n",
       "4210      1     98833\n",
       "4197      1     98816\n",
       "1139      1     69384\n",
       "1140      1     69385\n",
       "1141      1     69386\n",
       "1142      1     69387\n",
       "1326      1     75160\n",
       "518       1     35502\n",
       "247       1  16446552\n",
       "428       1     21009\n",
       "419       1     20998\n",
       "411       1     20988\n",
       "1369      1   8409180\n",
       "1138      1     69383\n",
       "\n",
       "[4238 rows x 2 columns]"
      ]
     },
     "execution_count": 14,
     "metadata": {},
     "output_type": "execute_result"
    }
   ],
   "source": [
    "aa_freq"
   ]
  },
  {
   "cell_type": "code",
   "execution_count": null,
   "metadata": {},
   "outputs": [],
   "source": []
  },
  {
   "cell_type": "code",
   "execution_count": 15,
   "metadata": {},
   "outputs": [],
   "source": [
    "#change aa data type to int \n",
    "aa_freq.aa=aa_freq.aa.astype('int')"
   ]
  },
  {
   "cell_type": "code",
   "execution_count": null,
   "metadata": {},
   "outputs": [],
   "source": [
    "plt.hist(aa_freq.freq)\n",
    "plt.show()\n",
    "#most of the aa only appeared less than 5000 times"
   ]
  },
  {
   "cell_type": "code",
   "execution_count": null,
   "metadata": {},
   "outputs": [],
   "source": [
    "#describe the frequency of AA\n",
    "aa_freq.freq.describe(percentiles=[.25, .5, .75, 0.9, 0.99])"
   ]
  },
  {
   "cell_type": "code",
   "execution_count": 18,
   "metadata": {},
   "outputs": [],
   "source": [
    "#merge aa with segment info\n",
    "aa_freq2=aa_freq.merge(v3, left_on='aa', right_on='SEGMENT_ID', how='left')"
   ]
  },
  {
   "cell_type": "code",
   "execution_count": 19,
   "metadata": {},
   "outputs": [],
   "source": [
    "#take a subset of data that has AA larger than or equal to certain frequency (here top 10% frequency)\n",
    "#aa_sub90=aa_freq2[aa_freq2['freq']>=7347]\n",
    "#aa_sub90.iloc[101:150,:]\n",
    "#find the unique higher category information\n",
    "#aa_sub90.CATEGORY3.unique()"
   ]
  },
  {
   "cell_type": "code",
   "execution_count": 20,
   "metadata": {},
   "outputs": [
    {
     "name": "stderr",
     "output_type": "stream",
     "text": [
      "/Users/aiyizhang/anaconda3/lib/python3.6/site-packages/ipykernel_launcher.py:2: SettingWithCopyWarning: \n",
      "A value is trying to be set on a copy of a slice from a DataFrame.\n",
      "Try using .loc[row_indexer,col_indexer] = value instead\n",
      "\n",
      "See the caveats in the documentation: http://pandas.pydata.org/pandas-docs/stable/indexing.html#indexing-view-versus-copy\n",
      "  \n"
     ]
    }
   ],
   "source": [
    "aa_sub99=aa_freq2[aa_freq2['freq']>=4687]\n",
    "aa_sub99['cat']=aa_sub99.CATEGORY2.astype('str')+' '+aa_sub99.CATEGORY3.astype('str')+' '+aa_sub99.SEGMENT_NAME.astype('str')"
   ]
  },
  {
   "cell_type": "code",
   "execution_count": 22,
   "metadata": {},
   "outputs": [],
   "source": [
    "#dataframe with segment IDs and their associated names/cats\n",
    "aa_sub99b=aa_sub99.loc[:,['SEGMENT_ID', 'freq', 'cat']]"
   ]
  },
  {
   "cell_type": "code",
   "execution_count": 24,
   "metadata": {},
   "outputs": [],
   "source": [
    "aa_sub99b.to_csv('~/Documents/persona_project_cardiology/clustering/names.csv')"
   ]
  },
  {
   "cell_type": "code",
   "execution_count": null,
   "metadata": {},
   "outputs": [],
   "source": [
    "#find selected aa in persona table (can't merge, because aa in persona is in long string)\n",
    "#(group a has these top common words and group b does not have these top common words)"
   ]
  },
  {
   "cell_type": "code",
   "execution_count": null,
   "metadata": {},
   "outputs": [],
   "source": [
    "#create empty new dataframe indicating if device has each of the most common features or not\n",
    "id=aa_sub99b.SEGMENT_ID.astype('str')\n",
    "id_str='ID_'+aa_sub99b.SEGMENT_ID.astype('str')\n",
    "ind=pd.DataFrame(0, index=persona.DEVICE_ID_HASHED, columns=id_str)"
   ]
  },
  {
   "cell_type": "code",
   "execution_count": null,
   "metadata": {},
   "outputs": [],
   "source": [
    "#fill in the ind table. if id in \n",
    "for j in range(persona.shape[0]):\n",
    "    for i in range(len(id)):\n",
    "        if id[i] in persona.AA[j]:\n",
    "            ind.iat[j,i]=1\n",
    "        else:\n",
    "            ind.iat[j,i]=0"
   ]
  },
  {
   "cell_type": "code",
   "execution_count": null,
   "metadata": {},
   "outputs": [],
   "source": [
    "#merge original persona data with new AA id indicators \n",
    "persona1=persona.merge(ind, left_on='DEVICE_ID_HASHED', right_on='DEVICE_ID_HASHED')"
   ]
  },
  {
   "cell_type": "code",
   "execution_count": null,
   "metadata": {},
   "outputs": [],
   "source": [
    "persona1.to_csv('persona1_processed.csv')"
   ]
  },
  {
   "cell_type": "code",
   "execution_count": null,
   "metadata": {},
   "outputs": [],
   "source": [
    "#persona1.iloc[0:100,:]"
   ]
  },
  {
   "cell_type": "code",
   "execution_count": null,
   "metadata": {},
   "outputs": [],
   "source": [
    "#only focus on the features from AA, and forget about the number of visit per month for now. \n",
    "\n",
    "#join with number of visits per month per device \n",
    "#persona2=persona1.merge(num_month,left_on='DEVICE_ID_HASHED', right_on='DEVICE_ID_HASHED')\n",
    "\n",
    "#because the data are not the whole samle, the device ID do not match in aa table and num_visit table. \n",
    "#take inner join to make the dataset smaller, and easier to work with. \n",
    "#will change after able to work with the whole dataset \n",
    "\n",
    "#persona2.shape"
   ]
  },
  {
   "cell_type": "code",
   "execution_count": null,
   "metadata": {},
   "outputs": [],
   "source": [
    "#persona2b=persona2.iloc[:,2:]"
   ]
  },
  {
   "cell_type": "code",
   "execution_count": null,
   "metadata": {},
   "outputs": [],
   "source": [
    "#persona2b.index=persona2.DEVICE_ID_HASHED"
   ]
  },
  {
   "cell_type": "code",
   "execution_count": null,
   "metadata": {},
   "outputs": [],
   "source": [
    "#persona2c=persona2b.drop(columns=['SEGMENT_ID'])\n",
    "#persona2c=persona2c.drop(columns=['INCOME_RANGE'])\n",
    "#persona2c=persona2c.drop(columns=['AGE_RANGE'])"
   ]
  },
  {
   "cell_type": "code",
   "execution_count": null,
   "metadata": {},
   "outputs": [],
   "source": []
  },
  {
   "cell_type": "code",
   "execution_count": null,
   "metadata": {},
   "outputs": [],
   "source": []
  },
  {
   "cell_type": "code",
   "execution_count": null,
   "metadata": {},
   "outputs": [],
   "source": []
  }
 ],
 "metadata": {
  "kernelspec": {
   "display_name": "Python 3",
   "language": "python",
   "name": "python3"
  },
  "language_info": {
   "codemirror_mode": {
    "name": "ipython",
    "version": 3
   },
   "file_extension": ".py",
   "mimetype": "text/x-python",
   "name": "python",
   "nbconvert_exporter": "python",
   "pygments_lexer": "ipython3",
   "version": "3.6.5"
  }
 },
 "nbformat": 4,
 "nbformat_minor": 2
}
