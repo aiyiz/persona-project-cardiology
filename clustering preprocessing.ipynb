{
 "cells": [
  {
   "cell_type": "code",
   "execution_count": 1,
   "metadata": {},
   "outputs": [],
   "source": [
    "import pandas as pd\n",
    "import numpy as np\n",
    "import scipy as sp\n",
    "\n",
    "from itertools import chain\n",
    "\n",
    "import matplotlib.pyplot as plt\n",
    "import seaborn as sns"
   ]
  },
  {
   "cell_type": "code",
   "execution_count": null,
   "metadata": {},
   "outputs": [],
   "source": [
    "#read in v3 data which is a dictionary of aa and what do they stand for\n",
    "v3 =pd.read_csv('~/Documents/persona_project/v3_segments.csv')"
   ]
  },
  {
   "cell_type": "code",
   "execution_count": null,
   "metadata": {},
   "outputs": [],
   "source": [
    "#read in number of visit by month\n",
    "num_month =pd.read_csv('~/Documents/persona_project/result_num_visit.csv')\n",
    "num_month.columns=['DEVICE_ID_HASHED','jan_visit','feb_visit','mar_visit','apr_visit','may_visit', 'june_visit','july_visit','august_visit']\n",
    "num_month=num_month.fillna(0)"
   ]
  },
  {
   "cell_type": "code",
   "execution_count": null,
   "metadata": {},
   "outputs": [],
   "source": [
    "#find segment ID basic information\n",
    "aa=v3.SEGMENT_ID.unique()\n",
    "round(v3.SEGMENT_ID.describe(),2)"
   ]
  },
  {
   "cell_type": "code",
   "execution_count": null,
   "metadata": {},
   "outputs": [],
   "source": [
    "#read in persona data\n",
    "persona =pd.read_csv('~/Documents/persona_project/persona_exploration.csv')"
   ]
  },
  {
   "cell_type": "code",
   "execution_count": null,
   "metadata": {},
   "outputs": [],
   "source": [
    "persona.shape"
   ]
  },
  {
   "cell_type": "code",
   "execution_count": null,
   "metadata": {},
   "outputs": [],
   "source": [
    "len(persona.DEVICE_ID_HASHED.drop_duplicates())"
   ]
  },
  {
   "cell_type": "code",
   "execution_count": null,
   "metadata": {},
   "outputs": [],
   "source": [
    "#only AA in persona data\n",
    "aa_persona=persona.AA"
   ]
  },
  {
   "cell_type": "code",
   "execution_count": null,
   "metadata": {},
   "outputs": [],
   "source": [
    "#split AA by comma\n",
    "aa_persona_a=[]\n",
    "for i in range(len(aa_persona)):\n",
    "    aa_persona_a.append(aa_persona[i].split(\",\"))"
   ]
  },
  {
   "cell_type": "code",
   "execution_count": null,
   "metadata": {},
   "outputs": [],
   "source": [
    "#unlist AA\n",
    "aa_persona_b=list(chain(*aa_persona_a))\n",
    "\n",
    "#change AA from list to array\n",
    "aa_persona_c=np.asarray(aa_persona_b)\n",
    "\n",
    "#remove missing (nothing is gone, but just make sure)\n",
    "#aa_persona_all_2 = aa_persona_all_2[~pd.isnull(aa_persona_all_2)]\n",
    "\n",
    "#put AA into a table \n",
    "aa_df=pd.DataFrame(aa_persona_c)\n",
    "aa_df=aa_df.rename({0: 'aa'}, axis='columns')"
   ]
  },
  {
   "cell_type": "code",
   "execution_count": null,
   "metadata": {},
   "outputs": [],
   "source": [
    "#find AA and its associated frequency\n",
    "unique_elements, counts_elements = np.unique(aa_df, return_counts=True)\n",
    "\n",
    "aa_freq=pd.DataFrame(unique_elements, counts_elements)\n",
    "aa_freq.reset_index(level=0, inplace=True)\n",
    "aa_freq.columns=['freq','aa']\n",
    "\n",
    "#sort by frequency\n",
    "aa_freq=aa_freq.sort_values(by=['freq'], ascending=False)"
   ]
  },
  {
   "cell_type": "code",
   "execution_count": null,
   "metadata": {},
   "outputs": [],
   "source": [
    "#aa_freq"
   ]
  },
  {
   "cell_type": "code",
   "execution_count": null,
   "metadata": {},
   "outputs": [],
   "source": []
  },
  {
   "cell_type": "code",
   "execution_count": null,
   "metadata": {},
   "outputs": [],
   "source": [
    "#change aa data type to int \n",
    "aa_freq.aa=aa_freq.aa.astype('int')"
   ]
  },
  {
   "cell_type": "code",
   "execution_count": null,
   "metadata": {},
   "outputs": [],
   "source": [
    "plt.hist(aa_freq.freq)\n",
    "plt.show()\n",
    "#most of the aa only appeared less than 5000 times"
   ]
  },
  {
   "cell_type": "code",
   "execution_count": null,
   "metadata": {},
   "outputs": [],
   "source": [
    "#describe the frequency of AA\n",
    "aa_freq.freq.describe(percentiles=[.25, .5, .75, 0.9, 0.99])"
   ]
  },
  {
   "cell_type": "code",
   "execution_count": null,
   "metadata": {},
   "outputs": [],
   "source": [
    "#merge aa with segment info\n",
    "aa_freq2=aa_freq.merge(v3, left_on='aa', right_on='SEGMENT_ID', how='left')"
   ]
  },
  {
   "cell_type": "code",
   "execution_count": null,
   "metadata": {},
   "outputs": [],
   "source": [
    "#take a subset of data that has AA larger than or equal to certain frequency (here top 10% frequency)\n",
    "#aa_sub90=aa_freq2[aa_freq2['freq']>=7347]\n",
    "#aa_sub90.iloc[101:150,:]\n",
    "#find the unique higher category information\n",
    "#aa_sub90.CATEGORY3.unique()"
   ]
  },
  {
   "cell_type": "code",
   "execution_count": null,
   "metadata": {},
   "outputs": [],
   "source": [
    "aa_sub99=aa_freq2[aa_freq2['freq']>=4687]\n",
    "aa_sub99['cat']=aa_sub99.CATEGORY2.astype('str')+' '+aa_sub99.CATEGORY3.astype('str')+' '+aa_sub99.SEGMENT_NAME.astype('str')"
   ]
  },
  {
   "cell_type": "code",
   "execution_count": null,
   "metadata": {},
   "outputs": [],
   "source": [
    "#dataframe with segment IDs and their associated names/cats\n",
    "aa_sub99b=aa_sub99.loc[:,['SEGMENT_ID', 'cat']]"
   ]
  },
  {
   "cell_type": "code",
   "execution_count": null,
   "metadata": {},
   "outputs": [],
   "source": [
    "aa_sub99b.to_csv('names.csv')"
   ]
  },
  {
   "cell_type": "code",
   "execution_count": null,
   "metadata": {},
   "outputs": [],
   "source": []
  },
  {
   "cell_type": "code",
   "execution_count": null,
   "metadata": {},
   "outputs": [],
   "source": [
    "#find selected aa in persona table (can't merge, because aa in persona is in long string)\n",
    "#(group a has these top common words and group b does not have these top common words)"
   ]
  },
  {
   "cell_type": "code",
   "execution_count": null,
   "metadata": {},
   "outputs": [],
   "source": [
    "#create empty new dataframe indicating if device has each of the most common features or not\n",
    "id=aa_sub99b.SEGMENT_ID.astype('str')\n",
    "id_str='ID_'+aa_sub99b.SEGMENT_ID.astype('str')\n",
    "ind=pd.DataFrame(0, index=persona.DEVICE_ID_HASHED, columns=id_str)"
   ]
  },
  {
   "cell_type": "code",
   "execution_count": null,
   "metadata": {},
   "outputs": [],
   "source": [
    "#fill in the ind table. if id in \n",
    "for j in range(persona.shape[0]):\n",
    "    for i in range(len(id)):\n",
    "        if id[i] in persona.AA[j]:\n",
    "            ind.iat[j,i]=1\n",
    "        else:\n",
    "            ind.iat[j,i]=0"
   ]
  },
  {
   "cell_type": "code",
   "execution_count": null,
   "metadata": {},
   "outputs": [],
   "source": [
    "#merge origina persona data with new AA id indicators \n",
    "persona1=persona.merge(ind, left_on='DEVICE_ID_HASHED', right_on='DEVICE_ID_HASHED')"
   ]
  },
  {
   "cell_type": "code",
   "execution_count": null,
   "metadata": {},
   "outputs": [],
   "source": [
    "persona1.to_csv('persona1_processed.csv')"
   ]
  },
  {
   "cell_type": "code",
   "execution_count": null,
   "metadata": {},
   "outputs": [],
   "source": [
    "#persona1.iloc[0:100,:]"
   ]
  },
  {
   "cell_type": "code",
   "execution_count": null,
   "metadata": {},
   "outputs": [],
   "source": [
    "#only focus on the features from AA, and forget about the number of visit per month for now. \n",
    "\n",
    "#join with number of visits per month per device \n",
    "#persona2=persona1.merge(num_month,left_on='DEVICE_ID_HASHED', right_on='DEVICE_ID_HASHED')\n",
    "\n",
    "#because the data are not the whole samle, the device ID do not match in aa table and num_visit table. \n",
    "#take inner join to make the dataset smaller, and easier to work with. \n",
    "#will change after able to work with the whole dataset \n",
    "\n",
    "#persona2.shape"
   ]
  },
  {
   "cell_type": "code",
   "execution_count": null,
   "metadata": {},
   "outputs": [],
   "source": [
    "#persona2b=persona2.iloc[:,2:]"
   ]
  },
  {
   "cell_type": "code",
   "execution_count": null,
   "metadata": {},
   "outputs": [],
   "source": [
    "#persona2b.index=persona2.DEVICE_ID_HASHED"
   ]
  },
  {
   "cell_type": "code",
   "execution_count": null,
   "metadata": {},
   "outputs": [],
   "source": [
    "#persona2c=persona2b.drop(columns=['SEGMENT_ID'])\n",
    "#persona2c=persona2c.drop(columns=['INCOME_RANGE'])\n",
    "#persona2c=persona2c.drop(columns=['AGE_RANGE'])"
   ]
  },
  {
   "cell_type": "code",
   "execution_count": null,
   "metadata": {},
   "outputs": [],
   "source": []
  },
  {
   "cell_type": "code",
   "execution_count": null,
   "metadata": {},
   "outputs": [],
   "source": []
  },
  {
   "cell_type": "code",
   "execution_count": null,
   "metadata": {},
   "outputs": [],
   "source": []
  }
 ],
 "metadata": {
  "kernelspec": {
   "display_name": "Python 3",
   "language": "python",
   "name": "python3"
  },
  "language_info": {
   "codemirror_mode": {
    "name": "ipython",
    "version": 3
   },
   "file_extension": ".py",
   "mimetype": "text/x-python",
   "name": "python",
   "nbconvert_exporter": "python",
   "pygments_lexer": "ipython3",
   "version": "3.6.5"
  }
 },
 "nbformat": 4,
 "nbformat_minor": 2
}
